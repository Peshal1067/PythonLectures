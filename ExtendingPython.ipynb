{
 "cells": [
  {
   "cell_type": "markdown",
   "metadata": {},
   "source": [
    "# Extending Python with Compiled Code\n",
    "\n",
    "In a previous session, we talked about ways to get performance out of Python using vectorization strategies within NumPy.  Today we're going to talk about approaches which involve **interfacing Python to external compiled code**, or **converting Python code to compilable code**.  There are several different approaches.  We'll give examples of solving a problem by several means:\n",
    "\n",
    "- [Ctypes](http://docs.python.org/2/library/ctypes.html): the C-linking utilities included in the Python standard library\n",
    "- [F2Py](http://cens.ioc.ee/projects/f2py2e/usersguide/): the Fortran to Python utility which is bundled with NumPy\n",
    "- [Cython](http://cython.org/): a module that allows conversion of Python and Python-like code to C\n",
    "- [Numba](http://numba.pydata.org/): a Python to LLVM bytecode converter\n",
    "\n",
    "There is no way to go into depth on all of these, but I mainly just want to show some examples so that you know the types of problems they solve.  At the above links, you'll find more in-depth documentation and tutorials."
   ]
  },
  {
   "cell_type": "markdown",
   "metadata": {},
   "source": [
    "### A Note on CFFI and PyPy\n",
    "\n",
    "A newer option that I've not personally used (but is probably the way of the future for wrapping compiled code in Cython) is the [C Foreign Function Interface (CFFI)](https://cffi.readthedocs.org/). One huge advantage of this is that it works with [PyPy](http://pypy.org/), where the other options don't.\n",
    "\n",
    "[PyPy](http://pypy.org/) is a JIT compiler for Python written in Python.  PyPy doesn't support the C backend which most scientific tools rely on, so it's not extremely useful for scientific computing. If the functionality of numpy, scipy, etc. is rewritten using the CFFI in the future, though, PyPy may become a competetive option."
   ]
  },
  {
   "cell_type": "markdown",
   "metadata": {},
   "source": [
    "### Other Options\n",
    "\n",
    "There are other options we won't talk about here, because they have mostly been superseded by the above tools:\n",
    "\n",
    "- [Python C API](http://docs.python.org/2/c-api/): Python is implemented in C, and you can actually write C code which will compile to a Python module!  This is extremely low-level, and I would only recommend it if you enjoy pain (see Dan Foreman-Mackie's [blog post](http://dan.iel.fm/posts/python-c-extensions/) for a concise-as-possible introduction)\n",
    "- [SWIG](http://www.swig.org/): the Simplified Wrapper Interface Generator, can generate wrappers from a variety of low-level languages to a variety of high-level languages.  It's used heavily by LSST and other projects.\n",
    "- [Weave](http://docs.scipy.org/doc/scipy/reference/tutorial/weave.html): included in SciPy, weave is a method of putting C snippets within a Python program.  It's largely been superseded by Cython in practice.\n",
    "\n",
    "The optimal approach depends on the desired use-case.  We'll go through a few examples, from lowest to highest level:"
   ]
  },
  {
   "cell_type": "markdown",
   "metadata": {},
   "source": [
    "## Why Extend Python?\n",
    "\n",
    "There are a few reasons you might wish to use the tools outlined below:\n",
    "\n",
    "1. Sometimes vectorization of algorithms can lead to excessive memory usage, because it relies on temporary arrays to hold intermediate results.  Directly implementing the routine in compiled code can lead to more efficient computation.\n",
    "\n",
    "2. Sometimes problems cannot be implemented as vectorized NumPy operations.  An example is in tree-based algorithms.  This is why I used cython when I wrote the k-neighbors and kernel density estimation code within ``sklearn.neighbors``.\n",
    "\n",
    "3. Sometimes there are legacy code-bases that you don't want to have to re-implement: you'd much rather just write some sort of bindings to call the old code from within Python.\n",
    "\n",
    "We'll do a **brief demonstration** of some of these tools.  These tools do have a bit of a learning curve, so I'll provide references for where you might look to go deeper.  The purpose of this lecture is to get a taste of some of the better options for addressing these problems."
   ]
  },
  {
   "cell_type": "markdown",
   "metadata": {},
   "source": [
    "## Ctypes\n",
    "\n",
    "Ctypes is part of the standard library, and offers tools to **call routines from compiled libraries with Python**.  These can either be routines in your system libraries, or in shared libraries you compile yourself.  We'll see examples of both.\n",
    "\n",
    "One weakness of ctypes is that it can be **very platform-specific**.  For example, shared-library extensions are different from platform to platform (e.g. ``*.so`` on Linux, ``*.dll`` on Windows, ``*.dylib`` on OSX).  Other platform-by-platform issues like 32/64 bit can also make things difficult."
   ]
  },
  {
   "cell_type": "markdown",
   "metadata": {},
   "source": [
    "### Interfacing to System Libraries"
   ]
  },
  {
   "cell_type": "markdown",
   "metadata": {},
   "source": [
    "In Linux & Mac, you'll usually find the standard libraries here (remember that ``!`` lets us execute shell commands within IPython):"
   ]
  },
  {
   "cell_type": "code",
   "execution_count": null,
   "metadata": {
    "collapsed": false
   },
   "outputs": [],
   "source": [
    "!ls /usr/lib/"
   ]
  },
  {
   "cell_type": "markdown",
   "metadata": {},
   "source": [
    "CTypes lets you link to any of these libraries and call the functions directly:"
   ]
  },
  {
   "cell_type": "code",
   "execution_count": null,
   "metadata": {
    "collapsed": false
   },
   "outputs": [],
   "source": [
    "from ctypes import CDLL\n",
    "\n",
    "libc_name = 'libc.dylib'  # OSX\n",
    "# libc_name = 'libc.so.6'  # Linux\n",
    "# libc_name = 'libc.dll'  # Windows\n",
    "\n",
    "libc = CDLL(libc_name)"
   ]
  },
  {
   "cell_type": "code",
   "execution_count": null,
   "metadata": {
    "collapsed": false
   },
   "outputs": [],
   "source": [
    "libc.time"
   ]
  },
  {
   "cell_type": "code",
   "execution_count": null,
   "metadata": {
    "collapsed": false
   },
   "outputs": [],
   "source": [
    "print(\"Seconds since January 1, 1970:\", libc.time())"
   ]
  },
  {
   "cell_type": "markdown",
   "metadata": {},
   "source": [
    "### Wrapping your own functions\n",
    "You can do more than simply wrapping the functionality of system libraries: you can also create your own C functions and wrap them with CTypes (this will require having a C compiler installed):"
   ]
  },
  {
   "cell_type": "code",
   "execution_count": null,
   "metadata": {
    "collapsed": false
   },
   "outputs": [],
   "source": [
    "%%file my_sum.c\n",
    "#include <stdio.h>\n",
    "\n",
    "// sum all the values in the array x\n",
    "// x is a pointer to a memory block \n",
    "// of length n\n",
    "int sum(int *x, int n)\n",
    "{\n",
    "  int i, counter;\n",
    "  counter = 0;\n",
    "  for(i=0; i<n; i++)\n",
    "    {\n",
    "      counter += x[i];\n",
    "    }\n",
    "  return counter;\n",
    "}"
   ]
  },
  {
   "cell_type": "code",
   "execution_count": null,
   "metadata": {
    "collapsed": false
   },
   "outputs": [],
   "source": [
    "%%bash\n",
    "gcc -c my_sum.c\n",
    "gcc -shared -o my_sum.so my_sum.o"
   ]
  },
  {
   "cell_type": "code",
   "execution_count": null,
   "metadata": {
    "collapsed": false
   },
   "outputs": [],
   "source": [
    "!ls my_sum.*"
   ]
  },
  {
   "cell_type": "markdown",
   "metadata": {},
   "source": [
    "Now we'll use the CTypes API to create Python objects that can be passed to this function:"
   ]
  },
  {
   "cell_type": "code",
   "execution_count": null,
   "metadata": {
    "collapsed": false
   },
   "outputs": [],
   "source": [
    "from ctypes import CDLL, c_void_p\n",
    "import numpy as np\n",
    "\n",
    "my_sum=CDLL('my_sum.so')\n",
    "\n",
    "a = np.arange(10, dtype=np.int32)\n",
    "adata = a.ctypes.data_as(c_void_p)\n",
    "asize = a.size\n",
    "\n",
    "my_sum.sum(adata, asize)"
   ]
  },
  {
   "cell_type": "code",
   "execution_count": null,
   "metadata": {
    "collapsed": false
   },
   "outputs": [],
   "source": [
    "a.sum()"
   ]
  },
  {
   "cell_type": "markdown",
   "metadata": {},
   "source": [
    "### User-defined Types\n",
    "Here we've used just simple built-in numerical types: we can also do more complicated things like defining C Structures within Python:"
   ]
  },
  {
   "cell_type": "code",
   "execution_count": null,
   "metadata": {
    "collapsed": false
   },
   "outputs": [],
   "source": [
    "%%file my_sum2.c\n",
    "#include <stdio.h>\n",
    "\n",
    "// Define a simple array struct, containing\n",
    "// a pointer and a length\n",
    "struct Array{\n",
    "   int *x;\n",
    "   int n;\n",
    "};\n",
    "\n",
    "// Sum the values in the array struct\n",
    "int sum(struct Array a)\n",
    "{\n",
    "  int counter, i;\n",
    "  counter = 0;\n",
    "  for(i=0; i<a.n; i++)\n",
    "    {\n",
    "      counter += a.x[i];\n",
    "    }\n",
    "  return counter;\n",
    "}\n",
    " "
   ]
  },
  {
   "cell_type": "code",
   "execution_count": null,
   "metadata": {
    "collapsed": false
   },
   "outputs": [],
   "source": [
    "%%bash\n",
    "gcc -c my_sum2.c\n",
    "gcc -shared -o my_sum2.so my_sum2.o"
   ]
  },
  {
   "cell_type": "markdown",
   "metadata": {},
   "source": [
    "Now the function requires us to pass a structure as an argument.  To handle this, we need to create a mirror of this structure within our Python script.  This can be done via the CTypes API:"
   ]
  },
  {
   "cell_type": "code",
   "execution_count": null,
   "metadata": {
    "collapsed": false
   },
   "outputs": [],
   "source": [
    "from ctypes import Structure, POINTER, c_int\n",
    "\n",
    "# Here's our C structure defined in Python\n",
    "class Array(Structure):\n",
    "    _fields_ = (\"x\", c_void_p), (\"n\", c_int)\n",
    "    \n",
    "my_sum2=CDLL('my_sum2.so')\n",
    "    \n",
    "a = np.arange(10, dtype=np.int32)\n",
    "arr = Array(a.ctypes.data_as(c_void_p), a.size)\n",
    "\n",
    "my_sum2.sum(arr)"
   ]
  },
  {
   "cell_type": "code",
   "execution_count": null,
   "metadata": {
    "collapsed": false
   },
   "outputs": [],
   "source": [
    "a.sum()"
   ]
  },
  {
   "cell_type": "markdown",
   "metadata": {},
   "source": [
    "We're starting to see how this can be helpful, but what if we want something more involved?"
   ]
  },
  {
   "cell_type": "markdown",
   "metadata": {},
   "source": [
    "### Interfacing to LAPACK functions\n",
    "\n",
    "Let's interface to the system LAPACK (Linear Algebra Package) routines and solve a linear equation.  This is the type of function you might write in order to interface with a code someone else has written.\n",
    "\n",
    "We'll use the DGESV routine from LAPACK: the Double precision GEneral SolVer for linear equations. This is a standard routine found on most computers.  See http://www.netlib.no/netlib/lapack/double/dgesv.f for a description of the call signature."
   ]
  },
  {
   "cell_type": "code",
   "execution_count": null,
   "metadata": {
    "collapsed": false
   },
   "outputs": [],
   "source": [
    "from ctypes import CDLL, c_int, c_void_p, byref\n",
    "import numpy as np\n",
    "\n",
    "def solve(M, b):\n",
    "    \"\"\"Solve the linear equation M x = b using LAPACK's DGESV\"\"\"\n",
    "    # Interface to the LAPACK system library\n",
    "    # This may be different depending on your operating system\n",
    "    lapack = CDLL('liblapack.dylib')\n",
    "    \n",
    "    # Make sure M is double precision fortran-ordered\n",
    "    M = np.asarray(M, dtype=np.float64, order='F')\n",
    "    \n",
    "    # Make a copy of b.  It will be overwritten with the result\n",
    "    b = np.array(b, dtype=np.float64, copy=True)\n",
    "    n = b.size\n",
    "    \n",
    "    # We could generalize this, but we'll do a simple problem for now\n",
    "    assert M.shape == (n, n)\n",
    "    assert b.shape == (n,)\n",
    "    \n",
    "    # prepare the variables for dgesv.\n",
    "    size = c_int(n)\n",
    "    one = c_int(1)\n",
    "    info = c_int(0)\n",
    "    lapack.dgesv(byref(size), # size of the problem\n",
    "                 byref(one), # number of columns of b\n",
    "                 M.ctypes.data_as(c_void_p), # M data array\n",
    "                 byref(size), # size of the problem\n",
    "                 (n * c_int)(), # integer work array\n",
    "                 b.ctypes.data_as(c_void_p), # b data array\n",
    "                 byref(size), # size of b\n",
    "                 byref(info)) # exit flag\n",
    "    return b"
   ]
  },
  {
   "cell_type": "code",
   "execution_count": null,
   "metadata": {
    "collapsed": false
   },
   "outputs": [],
   "source": [
    "X = np.random.random((5, 5))\n",
    "b = np.random.random(5)\n",
    "\n",
    "solve(X, b)"
   ]
  },
  {
   "cell_type": "code",
   "execution_count": null,
   "metadata": {
    "collapsed": false
   },
   "outputs": [],
   "source": [
    "np.linalg.solve(X, b)"
   ]
  },
  {
   "cell_type": "markdown",
   "metadata": {},
   "source": [
    "The routine ``np.linalg.solve`` actually uses this same routine (depending on your install options), so it should give precisely the same results.  You'd never want to do this for LAPACK routines (they're already in numpy, after all), but this sort of thing can come in handy to call legacy C/Fortran code from Python."
   ]
  },
  {
   "cell_type": "markdown",
   "metadata": {},
   "source": [
    "### Resources to explore this more:\n",
    "- [CTypes Documentation](http://docs.python.org/2/library/ctypes.html)\n",
    "- [CTypes Tutorial](http://python.net/crew/theller/ctypes/tutorial.html)\n",
    "- [Scipy Cookbook: Ctypes](http://wiki.scipy.org/Cookbook/Ctypes)\n",
    "- [Sage Ctypes Documentation](http://www.sagemath.org/doc/numerical_sage/ctypes.html)"
   ]
  },
  {
   "cell_type": "markdown",
   "metadata": {},
   "source": [
    "## F2Py\n",
    "\n",
    "F2Py is a submodule of NumPy, and is designed to create easy interfaces to Fortran code (though it will also work with C).  We can do something similar to above, but use ``f2py`` rather than ``gcc`` to compile it *(note that this will require you to have a Fortran compiler installed)*."
   ]
  },
  {
   "cell_type": "markdown",
   "metadata": {},
   "source": [
    "### A simple example\n",
    "We'll start with a simple example that computes the first N fibonacci numbers.  Here's a Python version of the function:"
   ]
  },
  {
   "cell_type": "code",
   "execution_count": null,
   "metadata": {
    "collapsed": false
   },
   "outputs": [],
   "source": [
    "import numpy as np\n",
    "\n",
    "def fib_py(N):\n",
    "    x = np.zeros(N, dtype=float)\n",
    "    for i in range(N):\n",
    "        if i == 0:\n",
    "            x[i] = 0\n",
    "        elif i == 1:\n",
    "            x[i] = 1\n",
    "        else:\n",
    "            x[i] = x[i - 1] + x[i - 2]\n",
    "    return x"
   ]
  },
  {
   "cell_type": "code",
   "execution_count": null,
   "metadata": {
    "collapsed": false
   },
   "outputs": [],
   "source": [
    "fib_py(10)"
   ]
  },
  {
   "cell_type": "code",
   "execution_count": null,
   "metadata": {
    "collapsed": false
   },
   "outputs": [],
   "source": [
    "%timeit fib_py(10000)"
   ]
  },
  {
   "cell_type": "markdown",
   "metadata": {},
   "source": [
    "Now we'll write the same routine in Fortran:"
   ]
  },
  {
   "cell_type": "code",
   "execution_count": null,
   "metadata": {
    "collapsed": false
   },
   "outputs": [],
   "source": [
    "%%file fib.f\n",
    "\n",
    "      subroutine fib(A,N)\n",
    "      integer N\n",
    "      double precision A(N)\n",
    "      do i=1,N\n",
    "         if (i.EQ.1) then\n",
    "            A(i) = 0.0D0\n",
    "         elseif (i.EQ.2) then\n",
    "            A(i) = 1.0D0\n",
    "         else\n",
    "            A(i) = A(i-1) + A(i-2)\n",
    "         endif\n",
    "      enddo\n",
    "      end"
   ]
  },
  {
   "cell_type": "markdown",
   "metadata": {},
   "source": [
    "We'll compile this from the command line using ``f2py3`` (or ``f2py`` in Python 2):"
   ]
  },
  {
   "cell_type": "code",
   "execution_count": null,
   "metadata": {
    "collapsed": false
   },
   "outputs": [],
   "source": [
    "!f2py3 -c -m fib fib.f"
   ]
  },
  {
   "cell_type": "code",
   "execution_count": null,
   "metadata": {
    "collapsed": false
   },
   "outputs": [],
   "source": [
    "import numpy as np\n",
    "import fib\n",
    "a = np.zeros(10, dtype='d')\n",
    "fib.fib(a) \n",
    "a"
   ]
  },
  {
   "cell_type": "code",
   "execution_count": null,
   "metadata": {
    "collapsed": false
   },
   "outputs": [],
   "source": [
    "a = np.zeros(10000, dtype='d')\n",
    "%timeit fib.fib(a)"
   ]
  },
  {
   "cell_type": "markdown",
   "metadata": {},
   "source": [
    "The Fortran version is about 300x faster!"
   ]
  },
  {
   "cell_type": "markdown",
   "metadata": {},
   "source": [
    "### Using an interface file\n",
    "But this is a bit awkward that we have to create the array that will hold the results... It would be nice if this could happen automatically.  We can make this happen through the use of *interface files*, which have a ``.pyf`` extension.\n",
    "\n",
    "An interface template can be generated automatically with f2py.  We'll tell it that we want a module called ``fib2``:"
   ]
  },
  {
   "cell_type": "code",
   "execution_count": null,
   "metadata": {
    "collapsed": false
   },
   "outputs": [],
   "source": [
    "!rm -f _fib2.pyf\n",
    "!f2py3 fib.f -m fib2 -h _fib2.pyf"
   ]
  },
  {
   "cell_type": "code",
   "execution_count": null,
   "metadata": {
    "collapsed": false
   },
   "outputs": [],
   "source": [
    "!cat _fib2.pyf"
   ]
  },
  {
   "cell_type": "markdown",
   "metadata": {},
   "source": [
    "Take a look at the default settings.  We have our subroutine called ``fib(a, n)``, which lists the following:\n",
    "```\n",
    "double precision dimension(n) :: a\n",
    "```\n",
    "This lists a variable which is an input into the routine: an array of length ``n``\n",
    "```\n",
    "integer, optional,check(len(a)>=n),depend(a) :: n=len(a)\n",
    "```\n",
    "This tells us what the routine expects ``n`` to be.  It is optionally specified, with a default value which is the length of ``a``.  Also, there is a check in here that makes sure ``a`` is long enough.  Let's check this out:"
   ]
  },
  {
   "cell_type": "code",
   "execution_count": null,
   "metadata": {
    "collapsed": false
   },
   "outputs": [],
   "source": [
    "from fib import fib\n",
    "a = np.zeros(10)\n",
    "fib(a, 10)  # specify the optional keyword\n",
    "a"
   ]
  },
  {
   "cell_type": "code",
   "execution_count": null,
   "metadata": {
    "collapsed": false
   },
   "outputs": [],
   "source": [
    "a = np.zeros(10)\n",
    "fib(a, 5)  # specify only part of the array\n",
    "a"
   ]
  },
  {
   "cell_type": "code",
   "execution_count": null,
   "metadata": {
    "collapsed": false
   },
   "outputs": [],
   "source": [
    "a = np.zeros(10)\n",
    "fib(a, 20)  # ERROR: length is too long!"
   ]
  },
  {
   "cell_type": "markdown",
   "metadata": {},
   "source": [
    "What we want to do is to modify this interface so that the length ``n`` is an input, and the array ``a`` is an (automatically constructed) output.  We'll do this below; for more details on the options available in F2Py interface files, see the [F2Py documentation](http://cens.ioc.ee/projects/f2py2e/usersguide/)."
   ]
  },
  {
   "cell_type": "code",
   "execution_count": null,
   "metadata": {
    "collapsed": false
   },
   "outputs": [],
   "source": [
    "%%file fib2.pyf\n",
    "!    -*- f90 -*-\n",
    "! Note: the context of this file is case sensitive.\n",
    "\n",
    "python module fib2 ! in \n",
    "    interface  ! in :fib2\n",
    "        subroutine fib(a,n) ! in :fib2:fib.f\n",
    "            double precision dimension(n), intent(out), depend(n) :: a\n",
    "            integer intent(in) :: n\n",
    "        end subroutine fib\n",
    "    end interface \n",
    "end python module fib2"
   ]
  },
  {
   "cell_type": "markdown",
   "metadata": {},
   "source": [
    "We've specified the intent and the dependencies of each variable using the ``f2py`` specifications.\n",
    "\n",
    "Here we compile fib2 using the interface file we've created:"
   ]
  },
  {
   "cell_type": "code",
   "execution_count": null,
   "metadata": {
    "collapsed": false
   },
   "outputs": [],
   "source": [
    "!f2py3 -c -m fib2 fib2.pyf fib.f"
   ]
  },
  {
   "cell_type": "markdown",
   "metadata": {},
   "source": [
    "Now we can import and call the function like this:"
   ]
  },
  {
   "cell_type": "code",
   "execution_count": null,
   "metadata": {
    "collapsed": false
   },
   "outputs": [],
   "source": [
    "import fib2\n",
    "fib2.fib(10)"
   ]
  },
  {
   "cell_type": "code",
   "execution_count": null,
   "metadata": {
    "collapsed": false
   },
   "outputs": [],
   "source": [
    "%timeit fib2.fib(10000)"
   ]
  },
  {
   "cell_type": "markdown",
   "metadata": {},
   "source": [
    "From our simple FORTRAN function, along with an interface file and a compilation with f2py, we now have a Python module which is callable in a very intuitive way.\n",
    "\n",
    "If you look into the source code of SciPy, you'll see that this is how much of its functionality is implemented, through wrapping pieces of the [NETLIB](http://netlib.org/) repository."
   ]
  },
  {
   "cell_type": "markdown",
   "metadata": {},
   "source": [
    "### Learning More\n",
    "- [F2Py user's guide](http://cens.ioc.ee/projects/f2py2e/usersguide/)\n",
    "- [SciPy F2Py cookbook](http://wiki.scipy.org/Cookbook/F2Py)\n",
    "- [numpy docs: using Python as glue](docs.scipy.org/doc/numpy/user/c-info.python-as-glue.html‎)\n",
    "- [Sage F2Py documentation](http://www.sagemath.org/doc/numerical_sage/f2py.html)"
   ]
  },
  {
   "cell_type": "markdown",
   "metadata": {},
   "source": [
    "## Cython\n",
    "\n",
    "CTypes and F2Py provide the ability to wrap Fortran, C, and C++ code so that it can be imported into Python.  Cython enables this as well, though we will not focus on that part of it here.  The biggest part of Cython is that it lets you **convert Python code** and Python-like code into compiled C code, which can run many times faster than the original code.\n",
    "\n",
    "Let's see a quick example.  Here's a Python function which computes the N^th fibonacci number:"
   ]
  },
  {
   "cell_type": "code",
   "execution_count": null,
   "metadata": {
    "collapsed": false
   },
   "outputs": [],
   "source": [
    "def nth_fib(n):\n",
    "    a, b = 0, 1\n",
    "    for i in range(n):\n",
    "        b, a = a + b, b\n",
    "    return a"
   ]
  },
  {
   "cell_type": "code",
   "execution_count": null,
   "metadata": {
    "collapsed": false
   },
   "outputs": [],
   "source": [
    "[nth_fib(i) for i in range(10)]"
   ]
  },
  {
   "cell_type": "code",
   "execution_count": null,
   "metadata": {
    "collapsed": false
   },
   "outputs": [],
   "source": [
    "%timeit nth_fib(10000)"
   ]
  },
  {
   "cell_type": "markdown",
   "metadata": {},
   "source": [
    "Now we'll take the **exact same** code, and compile it with Cython.  In general, this will be done by saving the code to file, and running ``cython`` on the command line.  You can read about that in the [documentation](http://cython.org). Here we'll use IPython's Cython magic to streamline the process:"
   ]
  },
  {
   "cell_type": "code",
   "execution_count": null,
   "metadata": {
    "collapsed": false
   },
   "outputs": [],
   "source": [
    "%load_ext cython"
   ]
  },
  {
   "cell_type": "code",
   "execution_count": null,
   "metadata": {
    "collapsed": false
   },
   "outputs": [],
   "source": [
    "%%cython\n",
    "def nth_fib2(n):\n",
    "    a, b = 0, 1\n",
    "    for i in range(n):\n",
    "        b, a = a + b, b\n",
    "    return a"
   ]
  },
  {
   "cell_type": "code",
   "execution_count": null,
   "metadata": {
    "collapsed": false
   },
   "outputs": [],
   "source": [
    "[nth_fib2(i) for i in range(10)]"
   ]
  },
  {
   "cell_type": "code",
   "execution_count": null,
   "metadata": {
    "collapsed": false
   },
   "outputs": [],
   "source": [
    "%timeit nth_fib2(10000)"
   ]
  },
  {
   "cell_type": "markdown",
   "metadata": {},
   "source": [
    "Just compiling the code in Cython gave us a ~10% speedup.  But we can do better by adding **type annotations**.\n",
    "\n",
    "See, the main reason Python is slow is because it has to do dynamic type checking each time it evaluates an expression.  If we can tell Cython what the types are from the beginning, this step can be skipped, and we have large time savings.  We do this through a ``cdef`` command.  We also do the temporary assignment explicitly to remove the Python tuple assignment:"
   ]
  },
  {
   "cell_type": "code",
   "execution_count": null,
   "metadata": {
    "collapsed": false
   },
   "outputs": [],
   "source": [
    "%%cython\n",
    "def nth_fib3(int n):\n",
    "    cdef int a = 0\n",
    "    cdef int b = 1\n",
    "    cdef int tmp\n",
    "    for i in range(n):\n",
    "        tmp = b\n",
    "        b = a + b\n",
    "        a = tmp\n",
    "    return a"
   ]
  },
  {
   "cell_type": "code",
   "execution_count": null,
   "metadata": {
    "collapsed": false
   },
   "outputs": [],
   "source": [
    "[nth_fib3(i) for i in range(10)]"
   ]
  },
  {
   "cell_type": "code",
   "execution_count": null,
   "metadata": {
    "collapsed": false
   },
   "outputs": [],
   "source": [
    "print(\"Python only:\")\n",
    "%timeit nth_fib(10000)\n",
    "print(\"Bare Cython:\")\n",
    "%timeit nth_fib(10000)\n",
    "print(\"Typed Cython:\")\n",
    "%timeit nth_fib3(10000)"
   ]
  },
  {
   "cell_type": "markdown",
   "metadata": {},
   "source": [
    "By adding some type information to our script, we sped up the execution by several orders of magnitude!  This shows how easy Cython is for simple problems."
   ]
  },
  {
   "cell_type": "markdown",
   "metadata": {},
   "source": [
    "One very useful trick to be aware of is ``cython -a``.  This will produce an annotated html document showing which lines of the program are causing problems.  You can run it like this:"
   ]
  },
  {
   "cell_type": "code",
   "execution_count": null,
   "metadata": {
    "collapsed": false
   },
   "outputs": [],
   "source": [
    "%%cython --annotate\n",
    "# Slow version:\n",
    "def nth_fib2(n):\n",
    "    a, b = 0, 1\n",
    "    for i in range(n):\n",
    "        b, a = a + b, b\n",
    "    return a\n",
    "\n",
    "# Fast Version:\n",
    "def nth_fib3(int n):\n",
    "    cdef int a = 0\n",
    "    cdef int b = 1\n",
    "    cdef int tmp\n",
    "    for i in range(n):\n",
    "        tmp = b\n",
    "        b = a + b\n",
    "        a = tmp\n",
    "    return a"
   ]
  },
  {
   "cell_type": "markdown",
   "metadata": {},
   "source": [
    "Here we see a highlighted version of our code.  The darkness of the highlight shows how many lines of C code were generated by the line of Python.  More yellow lines generally means slower code.  This can be very helpful when your code is not running as quickly as you'd expected."
   ]
  },
  {
   "cell_type": "markdown",
   "metadata": {},
   "source": [
    "### Using Cython with NumPy\n",
    "\n",
    "Cython provides a really nice interface to numpy arrays via the [Typed Memoryview](http://docs.cython.org/src/userguide/memoryviews.html) syntax.  Let's implement the same fib function as above, but using Cython.\n",
    "\n",
    "First we'll simply compile our Python function again:"
   ]
  },
  {
   "cell_type": "code",
   "execution_count": null,
   "metadata": {
    "collapsed": false
   },
   "outputs": [],
   "source": [
    "%%cython\n",
    "import numpy as np\n",
    "\n",
    "def fib_cy(N):\n",
    "    x = np.zeros(N, dtype=float)\n",
    "    for i in range(N):\n",
    "        if i == 0:\n",
    "            x[i] = 0\n",
    "        elif i == 1:\n",
    "            x[i] = 1\n",
    "        else:\n",
    "            x[i] = x[i - 1] + x[i - 2]\n",
    "    return x"
   ]
  },
  {
   "cell_type": "code",
   "execution_count": null,
   "metadata": {
    "collapsed": false
   },
   "outputs": [],
   "source": [
    "print(np.allclose(fib_py(10000), fib_cy(10000)))\n",
    "%timeit fib_py(10000)\n",
    "%timeit fib_cy(10000)"
   ]
  },
  {
   "cell_type": "markdown",
   "metadata": {},
   "source": [
    "Again, a very small improvement.  Let's add some type information and see how we do:"
   ]
  },
  {
   "cell_type": "code",
   "execution_count": null,
   "metadata": {
    "collapsed": false
   },
   "outputs": [],
   "source": [
    "%%cython\n",
    "import numpy as np\n",
    "from numpy cimport float_t\n",
    "\n",
    "def fib_cy2(int N):\n",
    "    cdef int i\n",
    "    cdef float_t[::1] x = np.zeros(N, dtype=float)\n",
    "    for i in range(N):\n",
    "        if i == 0:\n",
    "            x[i] = 0\n",
    "        elif i == 1:\n",
    "            x[i] = 1\n",
    "        else:\n",
    "            x[i] = x[i - 1] + x[i - 2]\n",
    "    return x"
   ]
  },
  {
   "cell_type": "code",
   "execution_count": null,
   "metadata": {
    "collapsed": false
   },
   "outputs": [],
   "source": [
    "%timeit fib_cy(10000)\n",
    "%timeit fib_cy2(10000)"
   ]
  },
  {
   "cell_type": "markdown",
   "metadata": {},
   "source": [
    "Wow! Simply adding some type information for the Cython compiler made our code orders of magnitude faster!  This is because the array can now be treated as a **contiguous memory block** rather than a **Python object**.  This makes each of the indexing operations much more efficient, because they no longer have to go through the Python interface layer."
   ]
  },
  {
   "cell_type": "markdown",
   "metadata": {},
   "source": [
    "### Learning More\n",
    "There's a whole lot more to know about Cython, especially the details of working with numpy arrays.  Here are some more resources:\n",
    "\n",
    "- [Cython userguide](http://docs.cython.org/src/userguide/): lots of general information\n",
    "- [Cython docs: typed memoryviews](http://docs.cython.org/src/userguide/memoryviews.html): useful for working with numpy arrays\n",
    "- [Cython and NumPy](http://docs.cython.org/src/tutorial/numpy.html): some of this is currently a bit out-dated, but that should be addressed in the coming months.\n",
    "- [Scipy Conference 2013 Cython tutorial](http://conference.scipy.org/scipy2013/tutorial_detail.php?id=105) Very good video tutorial by one of Cython's main contributors."
   ]
  },
  {
   "cell_type": "markdown",
   "metadata": {},
   "source": [
    "## Numba\n",
    "\n",
    "You might wonder whether some of that type information could be inferred by the compiler, or whether the compilation phase is really necessary.  This is where [Numba](http://numba.pydata.org/) comes in.  Numba is an LLVM-based Just In Time (JIT) compiler for Python.  It allows simple annotations of Python code which can lead to huge speedups for certain operations.\n",
    "\n",
    "Numba comes from Continuum Analytics, a company founded by the creator of NumPy and SciPy, and the same people who are behind the Anaconda Python distribution.  Numba is still relatively young, and can be a little finnicky for some problems, but the approach is really clean.\n",
    "\n",
    "You can install numba from scratch, but because of the dependencies on LLVM and other difficult-to-install tools, I'd highly recommend just going with [Anaconda](https://store.continuum.io/cshop/anaconda/).\n",
    "\n",
    "Let's go back to our Python ``fib()`` function:"
   ]
  },
  {
   "cell_type": "code",
   "execution_count": null,
   "metadata": {
    "collapsed": false
   },
   "outputs": [],
   "source": [
    "def fib(N):\n",
    "    x = np.zeros(N, dtype=np.float64)\n",
    "    for i in range(N):\n",
    "        if i == 0:\n",
    "            x[i] = 0\n",
    "        elif i == 1:\n",
    "            x[i] = 1\n",
    "        else:\n",
    "            x[i] = x[i - 1] + x[i - 2]\n",
    "    return x"
   ]
  },
  {
   "cell_type": "markdown",
   "metadata": {},
   "source": [
    "To speed this up with Numba, we simply use the ``jit`` decorator:"
   ]
  },
  {
   "cell_type": "code",
   "execution_count": null,
   "metadata": {
    "collapsed": false
   },
   "outputs": [],
   "source": [
    "from numba import autojit\n",
    "fib_nb = autojit(fib)"
   ]
  },
  {
   "cell_type": "code",
   "execution_count": null,
   "metadata": {
    "collapsed": false
   },
   "outputs": [],
   "source": [
    "fib_nb(10)"
   ]
  },
  {
   "cell_type": "code",
   "execution_count": null,
   "metadata": {
    "collapsed": false
   },
   "outputs": [],
   "source": [
    "%timeit fib(10000)\n",
    "%timeit fib_nb(10000)"
   ]
  },
  {
   "cell_type": "markdown",
   "metadata": {},
   "source": [
    "Usually, numba is used as a decorator, which essentially does the same as we saw above.  You'd write a decorated function this way:"
   ]
  },
  {
   "cell_type": "code",
   "execution_count": null,
   "metadata": {
    "collapsed": false
   },
   "outputs": [],
   "source": [
    "@autojit\n",
    "def fib_nb(N):\n",
    "    x = np.zeros(N, dtype=np.float64)\n",
    "    for i in range(N):\n",
    "        if i == 0:\n",
    "            x[i] = 0\n",
    "        elif i == 1:\n",
    "            x[i] = 1\n",
    "        else:\n",
    "            x[i] = x[i - 1] + x[i - 2]\n",
    "    return x"
   ]
  },
  {
   "cell_type": "code",
   "execution_count": null,
   "metadata": {
    "collapsed": false
   },
   "outputs": [],
   "source": [
    "%timeit fib_nb(10000)"
   ]
  },
  {
   "cell_type": "markdown",
   "metadata": {},
   "source": [
    "You can see that simply by passing our ``fib`` function through the ``autojit`` decorator, we've attained execution which is a few percent faster than what we got with Cython - and there's no fancy compilation stage required!  The funcion is compiled *on demand* through LLVM, which makes numba very convenient to use.\n",
    "\n",
    "Now for the bad news: Numba is still young, and there are a lot of corner cases where the compiler will just break without any useful error message.  For more complicated problems and functions, the output code is not always faster than Python+NumPy, and can sometimes even be slower!\n",
    "\n",
    "My recommendation right now is to keep Numba in mind, to try it in your problems, but not necessarily depend on it -- yet."
   ]
  },
  {
   "cell_type": "markdown",
   "metadata": {},
   "source": [
    "### More Information on Numba\n",
    "There's still not a lot of information out there, but here are a few resources:\n",
    "- [Numba documentation](http://numba.pydata.org/doc.html)\n",
    "- [Accelerating Python with Numba](http://continuum.io/blog/numba_performance)\n",
    "- [Numba vs. Cython](http://jakevdp.github.io/blog/2013/06/15/numba-vs-cython-take-2/)"
   ]
  }
 ],
 "metadata": {
  "kernelspec": {
   "display_name": "Python 3.5",
   "language": "",
   "name": "python3.5"
  },
  "language_info": {
   "codemirror_mode": {
    "name": "ipython",
    "version": 3
   },
   "file_extension": ".py",
   "mimetype": "text/x-python",
   "name": "python",
   "nbconvert_exporter": "python",
   "pygments_lexer": "ipython3",
   "version": "3.5.1"
  }
 },
 "nbformat": 4,
 "nbformat_minor": 0
}
